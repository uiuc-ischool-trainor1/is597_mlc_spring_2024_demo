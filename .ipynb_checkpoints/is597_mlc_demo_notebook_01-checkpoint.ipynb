{
 "cells": [
  {
   "cell_type": "markdown",
   "id": "74185707-2a8c-4957-b957-4a7dd7fa8e10",
   "metadata": {},
   "source": [
    "# Basic Notebook"
   ]
  },
  {
   "cell_type": "markdown",
   "id": "985c08f6-4157-4662-8345-05a14490a297",
   "metadata": {},
   "source": [
    "## Purpose\n",
    "This is a very simple Jupyter Notebook that includes simple markdown cells and a simple Python code cell."
   ]
  },
  {
   "cell_type": "code",
   "execution_count": 1,
   "id": "1e0174db-ed22-4064-b524-b8b3aed7e52b",
   "metadata": {},
   "outputs": [],
   "source": [
    "## Very Simple Python Code"
   ]
  },
  {
   "cell_type": "code",
   "execution_count": null,
   "id": "ac991eab-491a-4476-9226-cc02139bd712",
   "metadata": {},
   "outputs": [],
   "source": [
    "print('True peace is not merely the absence of tension; it is the presence of justice.'"
   ]
  }
 ],
 "metadata": {
  "kernelspec": {
   "display_name": "Python 3 (ipykernel)",
   "language": "python",
   "name": "python3"
  },
  "language_info": {
   "codemirror_mode": {
    "name": "ipython",
    "version": 3
   },
   "file_extension": ".py",
   "mimetype": "text/x-python",
   "name": "python",
   "nbconvert_exporter": "python",
   "pygments_lexer": "ipython3",
   "version": "3.11.5"
  }
 },
 "nbformat": 4,
 "nbformat_minor": 5
}
