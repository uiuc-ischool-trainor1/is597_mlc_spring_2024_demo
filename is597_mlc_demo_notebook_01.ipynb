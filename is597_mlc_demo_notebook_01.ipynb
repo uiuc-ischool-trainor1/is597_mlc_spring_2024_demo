{
 "cells": [
  {
   "cell_type": "markdown",
   "id": "74185707-2a8c-4957-b957-4a7dd7fa8e10",
   "metadata": {},
   "source": [
    "# IS597-MLC Demo Notebook 1"
   ]
  },
  {
   "cell_type": "markdown",
   "id": "985c08f6-4157-4662-8345-05a14490a297",
   "metadata": {},
   "source": [
    "## Purpose\n",
    "This is a very simple Jupyter Notebook that includes simple markdown cells and a simple Python code cell."
   ]
  },
  {
   "cell_type": "markdown",
   "id": "17fb7a95-7016-4e77-a08b-ee9695e8f0d5",
   "metadata": {},
   "source": [
    "## Very Simple Python Code"
   ]
  },
  {
   "cell_type": "code",
   "execution_count": 1,
   "id": "ac991eab-491a-4476-9226-cc02139bd712",
   "metadata": {},
   "outputs": [
    {
     "name": "stdout",
     "output_type": "stream",
     "text": [
      "True peace is not merely the absence of tension; it is the presence of justice.\n"
     ]
    }
   ],
   "source": [
    "print('True peace is not merely the absence of tension; it is the presence of justice.')"
   ]
  },
  {
   "cell_type": "code",
   "execution_count": null,
   "id": "18dc40c6-095e-46d8-9121-6d3b800eb7f2",
   "metadata": {},
   "outputs": [],
   "source": []
  }
 ],
 "metadata": {
  "kernelspec": {
   "display_name": "Python 3 (ipykernel)",
   "language": "python",
   "name": "python3"
  },
  "language_info": {
   "codemirror_mode": {
    "name": "ipython",
    "version": 3
   },
   "file_extension": ".py",
   "mimetype": "text/x-python",
   "name": "python",
   "nbconvert_exporter": "python",
   "pygments_lexer": "ipython3",
   "version": "3.11.5"
  }
 },
 "nbformat": 4,
 "nbformat_minor": 5
}
